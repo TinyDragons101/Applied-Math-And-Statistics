{
 "cells": [
  {
   "cell_type": "markdown",
   "metadata": {},
   "source": [
    "# GIẢI HỆ PHƯƠNG TRÌNH TUYẾN TÍNH BẰNG PHƯƠNG PHÁP GAUSS-JORDAN"
   ]
  },
  {
   "cell_type": "markdown",
   "metadata": {},
   "source": [
    "## I. Mã giả"
   ]
  },
  {
   "cell_type": "markdown",
   "metadata": {},
   "source": [
    "Một hệ phương trình tuyến tính gồm n phương trình, n ẩn có dạng:\n",
    "\n",
    "$\n",
    "\\begin{cases}\n",
    "a_{11}x_{1} + a_{12}x_{2} + \\dots + a_{1n}x_{n} = b_{1} \\\\\n",
    "a_{21}x_{1} + a_{22}x_{2} + \\dots + a_{2n}x_{n} = b_{2} \\\\\n",
    "\\vdots \\\\\n",
    "a_{n1}x_{1} + a_{n2}x_{2} + \\dots + a_{nn}x_{n} = b_{n}\n",
    "\\end{cases}\n",
    "$\n",
    "\n",
    "Đặt A là ma trận các hệ số, X là cột các ẩn, B là cột các hệ số tự do, khi đó hệ phương trình trên được viết dưới dạng AX = B\n",
    "Khi đó $\\~{A} = (A | B)$ là ma trận mở rộng của hệ phương trình trên\n",
    "\n",
    "Phần này trình bày cách giải hệ phương trình tuyến tính bằng phương pháp Gauss-Jordan:\n",
    "\n",
    "***Bước 1:*** Lập ma trận mở rộng $\\~{A} = (A|B)$\n",
    "\n",
    "***Bước 2:*** Đưa ma trận $\\~{A}$ về dạng bậc thang rút gọn bằng thuật toán Gauss-Jordan\n",
    "\n",
    "***Bước 3:*** Dựa vào trường hợp của dạng bậc thang rút gọn $R_{A}$ mà kết luận nghiệm cụ thể\n"
   ]
  },
  {
   "cell_type": "markdown",
   "metadata": {},
   "source": [
    "### 1. Thuật toán Gauss-Jordan\n",
    "#### Tìm dạng bậc thang rút gọn của ma trận $A \\in M_{m \\times n} (\\mathbb{R})$\n",
    "\n",
    "***Bước 1:*** Cho i := 0, j := 0\n",
    "\n",
    "***Bước 2:*** Nếu i >= m hoặc j >= n thì kết thúc \n",
    "\n",
    "***Bước 3:*** \n",
    "- Nếu $a_{i, j}$ $\\neq$ 0, thực hiện các phép biến đổi: \n",
    "\n",
    "    - $\\frac{1}{a_{i, j}} d_{i}$\n",
    "\n",
    "    - $d_{k} - a_{k, j}d_{i}$ với mọi k $\\neq i$\n",
    "\n",
    "    Sau đó i := i + 1, j := j + 1 và quay về Bước 2\n",
    "\n",
    "- Nếu $a_{i, j} = 0$, chuyển sang Bước 4:\n",
    "\n",
    "    - Nếu $a_{k, j} \\neq 0$ với một k > i nào đó thì chọn một k như vậy và thực hiện phép biến đổi dòng $d_{i} \\leftrightarrow d_{k}$ và quay về Bước 2\n",
    "    - Nếu $a_{k, j} = 0$ với mọi k > i thì j := j + 1 và quay về Bước 2 \n"
   ]
  },
  {
   "cell_type": "markdown",
   "metadata": {},
   "source": [
    "### 2. Giải hệ phương trình\n",
    "#### Dựa vào các trường hợp của dạng bậc thang rút gọn của $\\~{A}$ để kết luận nghiệm\n",
    "\n",
    "Ta tính hạng r(A) của ma trận A và hạng r($\\~{A}$) của ma trận mở rộng $\\~{A}$\n",
    "\n",
    "***Trường hợp 1:*** r(A) < r($\\~{A}$). Kết luận hệ phương trình vô nghiệm\n",
    "\n",
    "***Trường hợp 2:*** r(A) = r($\\~{A}$) = n, tức là ma trận mở rộng có dạng\n",
    "\n",
    "$\n",
    "\\begin{bmatrix}\n",
    "1 & 0 & 0 \\dots 0 & | & a_{1} \\\\\n",
    "0 & 1 & 0 \\dots 0 & | & a_{2} \\\\\n",
    "\\dots & \\dots & \\dots & & \\dots \\\\\n",
    "0 & 0 & 0 \\dots 1 & | & a_{n} \\\\\n",
    "\\end{bmatrix}\n",
    "$\n",
    "\n",
    "Khi đó hệ phương trình có nghiệm duy nhất là:\n",
    "    $x_{1} = a_{1}, x_{2} = a_{2}, \\dots , x_{n} = a_{n}$\n",
    "\n",
    "***Trường hợp 3:*** khác 2 trường hợp trên, khi đó hệ có vô số nghiệm sao cho:\n",
    "- Ẩn tương ứng với các cột không có phần tử cơ sở 1 sẽ là ẩn tự do (lấy giá trị tùy ý)\n",
    "\n",
    "- Ẩn tương ứng với cột có phần tử cơ sở 1 sẽ được tính theo các ẩn tự do"
   ]
  },
  {
   "cell_type": "markdown",
   "metadata": {},
   "source": [
    "## II. Cài đặt chương trình"
   ]
  },
  {
   "cell_type": "markdown",
   "metadata": {},
   "source": [
    "### 1. Khai báo thư viện"
   ]
  },
  {
   "cell_type": "code",
   "execution_count": 100,
   "metadata": {},
   "outputs": [],
   "source": [
    "import numpy as np"
   ]
  },
  {
   "cell_type": "markdown",
   "metadata": {},
   "source": [
    "### 2. Hàm phụ trợ"
   ]
  },
  {
   "cell_type": "code",
   "execution_count": 101,
   "metadata": {},
   "outputs": [],
   "source": [
    "def swap_i_rows(mat, row1, row2):               # Hoan vi 2 dong\n",
    "    tmp = mat[row1].copy()\n",
    "    mat[row1] = mat[row2]\n",
    "    mat[row2] = tmp\n",
    "    return\n",
    "\n",
    "def find_mat_rank(aug_mat, n):                  # Tim hang cua ma tran bac thang\n",
    "    cnt = 0\n",
    "    for i in range(n):\n",
    "        for j in range(n):\n",
    "            if aug_mat[i][j] != 0:\n",
    "                cnt += 1\n",
    "                break\n",
    "    return cnt\n",
    "\n",
    "def find_aug_mat_rank(aug_mat, n):              # Tim hang cua ma tran bac thang mo rong\n",
    "    cnt = 0\n",
    "    for i in range(n):\n",
    "        for j in range(n + 1):\n",
    "            if aug_mat[i][j] != 0:\n",
    "                cnt += 1\n",
    "                break\n",
    "    return cnt"
   ]
  },
  {
   "cell_type": "markdown",
   "metadata": {},
   "source": [
    "### 3. Nhập ma trận mở rộng"
   ]
  },
  {
   "cell_type": "code",
   "execution_count": 102,
   "metadata": {},
   "outputs": [
    {
     "name": "stdout",
     "output_type": "stream",
     "text": [
      "Ma tran mo rong (A|B): \n",
      "[[1. 7. 0. 0. 8. 5.]\n",
      " [0. 0. 1. 2. 6. 3.]\n",
      " [0. 0. 0. 1. 9. 5.]\n",
      " [0. 0. 0. 0. 0. 0.]\n",
      " [0. 0. 0. 0. 0. 0.]]\n"
     ]
    }
   ],
   "source": [
    "n = int(input(\"Nhap n = \"))\n",
    "aug_mat = np.ones((n, n + 1), dtype = 'float64')\n",
    "\n",
    "for i in range(n):\n",
    "    row_input = input(f\"Nhap dong {i} cua ma tran A: \").split(sep = ' ')\n",
    "    for j in range(n):\n",
    "        aug_mat[i][j] = row_input[j]\n",
    "        \n",
    "row_input = input(\"Nhap ma tran B: \").split(sep = ' ')\n",
    "for i in range(n):\n",
    "    aug_mat[i][n] = row_input[i]\n",
    "        \n",
    "aug_mat = aug_mat.astype(float)\n",
    "\n",
    "print(\"Ma tran mo rong (A|B): \")\n",
    "print(aug_mat)"
   ]
  },
  {
   "cell_type": "markdown",
   "metadata": {},
   "source": [
    "### 4. Đưa ma trận mở rộng về dạng bậc thang rút gọn"
   ]
  },
  {
   "cell_type": "code",
   "execution_count": 103,
   "metadata": {},
   "outputs": [
    {
     "name": "stdout",
     "output_type": "stream",
     "text": [
      "[[  1.   7.   0.   0.   8.   5.]\n",
      " [  0.   0.   1.   0. -12.  -7.]\n",
      " [  0.   0.   0.   1.   9.   5.]\n",
      " [  0.   0.   0.   0.   0.   0.]\n",
      " [  0.   0.   0.   0.   0.   0.]]\n"
     ]
    }
   ],
   "source": [
    "def to_Gauss_Jordan_form(aug_mat ,n):        \n",
    "    i_row = 0\n",
    "    i_col = 0\n",
    "\n",
    "    while i_row < n and i_col < n:\n",
    "        if aug_mat[i_row][i_col] != 0:\n",
    "            aug_mat[i_row] *= (1.0 / aug_mat[i_row][i_col])\n",
    "            for j in range(n):\n",
    "                if j != i_row:\n",
    "                    aug_mat[j] -= (aug_mat[j][i_col] * aug_mat[i_row])\n",
    "            i_row += 1\n",
    "            i_col += 1\n",
    "            continue\n",
    "        else:\n",
    "            for j in range(i_row + 1, n):\n",
    "                if aug_mat[j][i_col] != 0:\n",
    "                    swap_i_rows(aug_mat, i_row, j)\n",
    "                    break\n",
    "            else:\n",
    "                i_col += 1\n",
    "                \n",
    "to_Gauss_Jordan_form(aug_mat, n)\n",
    "print(aug_mat)"
   ]
  },
  {
   "cell_type": "markdown",
   "metadata": {},
   "source": [
    "### 5. Giải hệ phương trình dựa trên ma trận bậc thang rút gọn"
   ]
  },
  {
   "cell_type": "code",
   "execution_count": 104,
   "metadata": {},
   "outputs": [
    {
     "name": "stdout",
     "output_type": "stream",
     "text": [
      "He phuong trinh co vo so nghiem: \n",
      "x1 = 5.0 + (-7.0 * x2) + (-8.0 * x5)\n",
      "x2 ∈ R\n",
      "x3 = -7.0 + (12.0 * x5)\n",
      "x4 = 5.0 + (-9.0 * x5)\n",
      "x5 ∈ R\n"
     ]
    }
   ],
   "source": [
    "def solve_equation_system(aug_mat, n):\n",
    "    mat_rank = find_mat_rank(aug_mat, n)\n",
    "    aug_mat_rank = find_aug_mat_rank(aug_mat, n)\n",
    "    \n",
    "    # Trường hợp 1\n",
    "    if mat_rank < aug_mat_rank:\n",
    "        print(\"He phuong trinh vo nghiem. \")\n",
    "        return\n",
    "    \n",
    "    # Trường hợp 2\n",
    "    elif mat_rank == aug_mat_rank and mat_rank == n:\n",
    "        print(\"He phuong trinh co 1 nghiem duy nhat: \")\n",
    "        for i in range(n):\n",
    "            print(f\"x{i + 1} = {aug_mat[i][n]}\")\n",
    "        return\n",
    "    \n",
    "    # Trường hợp 3\n",
    "    else:\n",
    "        print(\"He phuong trinh co vo so nghiem: \")\n",
    "        i_row = 0\n",
    "        i_col = 0\n",
    "        while i_row < n and i_col < n:\n",
    "            if aug_mat[i_row][i_col] == 1:\n",
    "                print(f\"x{i_col + 1} = {aug_mat[i_row][n]}\", end = '')\n",
    "                for j in range(i_col + 1, n):\n",
    "                    if aug_mat[i_row][j] != 0:\n",
    "                        print(f\" + ({-aug_mat[i_row][j]} * x{j + 1})\", end = '')\n",
    "                print(\"\")\n",
    "                i_row += 1\n",
    "                i_col += 1\n",
    "            else:\n",
    "                print(f\"x{i_col + 1} ∈ R\")\n",
    "                i_col += 1\n",
    "             \n",
    "solve_equation_system(aug_mat, n)"
   ]
  },
  {
   "cell_type": "markdown",
   "metadata": {},
   "source": [
    "## III. Phân tích độ phức tạp thuật toán"
   ]
  },
  {
   "cell_type": "markdown",
   "metadata": {},
   "source": [
    "Xét ma trận A $\\in$ $M_{m \\times n}$ có bậc r.\n",
    "\n",
    "Với mỗi r $\\in$ [0, min(m, n)]:\n",
    "Ta xét biến i chạy từ 1 đến r, với mỗi i:\n",
    "- Thực hiện rút gọn dòng i sao cho phần tử cơ sở = 1 $\\rightarrow$ n + 1 - i thao tác\n",
    "- Với mọi j $\\neq$ i rút gọn dòng j sao cho chỉ có duy nhất phần tử cơ sở = 1 trên một cột $\\rightarrow$ (m - 1)$\\times$(n + 1 - i) thao tác\n",
    "\n",
    "Từ đó ta có hàm độ phức tạp phụ thuộc theo 3 biến r, m, n là f(r, m, n):\n",
    "\n",
    "$$\n",
    "\\begin{split}\n",
    "f(r, m, n) &= n + (m - 1)n + (n - 1) + (m - 1)(n - 1) + ... + (n - r + 1) + (m - 1)(n - r + 1)\\\\\n",
    "&= \\frac{(2n - r + 1)r}{2} + (m-1)\\frac{(2n - r + 1)r}{2}\\\\\n",
    "&= m\\frac{(2n - r + 1)r}{2}\n",
    "\\end{split}\n",
    "$$\n",
    "\n",
    "Xét ma trận vuông A $\\in$ $M_{n \\times n}$ tại trường hợp xấu nhất r = n, khi đó ta có hàm độ phức tạp f(n):\n",
    "\n",
    "$$\n",
    "f(n) = \\frac{n(n + 1)n}{2} = \\frac{n^3}{2} + \\frac{n^2}{2}\n",
    "$$\n",
    "\n",
    "Vậy độ phức tạp cho trường hợp xấu nhất là: O($\\frac{n^3}{2}$)\n",
    "\n",
    "\n"
   ]
  }
 ],
 "metadata": {
  "kernelspec": {
   "display_name": "Python 3",
   "language": "python",
   "name": "python3"
  },
  "language_info": {
   "codemirror_mode": {
    "name": "ipython",
    "version": 3
   },
   "file_extension": ".py",
   "mimetype": "text/x-python",
   "name": "python",
   "nbconvert_exporter": "python",
   "pygments_lexer": "ipython3",
   "version": "3.8.9"
  }
 },
 "nbformat": 4,
 "nbformat_minor": 2
}
